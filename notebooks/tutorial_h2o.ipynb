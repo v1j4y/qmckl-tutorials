{
 "cells": [
  {
   "cell_type": "markdown",
   "id": "b96ed045",
   "metadata": {},
   "source": [
    "\n",
    "# QMCkl Tutorial"
   ]
  },
  {
   "cell_type": "markdown",
   "id": "a579be2b",
   "metadata": {},
   "source": [
    "This tutorial covers some basic use cases of the QMCkl library based on the Python API. \n",
    "At this point, it is assumed that the QMCkl Python package has been successfully installed on the user machine \n",
    "or in the virtual environment. If this is not the case, feel free to follow the [installation guide](https://github.com/TREX-CoE/qmckl/blob/master/python/README.md).\n",
    "\n",
    "## Importing QMCkl"
   ]
  },
  {
   "cell_type": "code",
   "execution_count": null,
   "id": "4abb9f05",
   "metadata": {},
   "outputs": [],
   "source": [
    "try:\n",
    "    import qmckl as qp\n",
    "except ImportError:\n",
    "    raise Exception(\"Unable to import qmckl. Please check that qmckl is properly installed.\")"
   ]
  },
  {
   "cell_type": "markdown",
   "id": "ed44ed32",
   "metadata": {},
   "source": [
    "## Importing packages"
   ]
  },
  {
   "cell_type": "code",
   "execution_count": null,
   "id": "6058f5a9",
   "metadata": {},
   "outputs": [],
   "source": [
    "import numpy as np\n",
    "import time\n",
    "\n",
    "from data.data import coord, mo_index_alpha, mo_index_beta"
   ]
  },
  {
   "cell_type": "markdown",
   "id": "a4fa5741",
   "metadata": {},
   "source": [
    "## Initialize parameters\n",
    "\n",
    "Here we initialiez the parameters for the calculation\n",
    "such as the number of electrons `elec_num` and the number of walkers `walk_num`. \n",
    "\n",
    "The context `ctx`, which will be used throughout the calculation, is also initialized. "
   ]
  },
  {
   "cell_type": "code",
   "execution_count": null,
   "id": "a865c43e",
   "metadata": {},
   "outputs": [],
   "source": [
    "ITERMAX = 10 # Maximum number of iterations for the timing\n",
    "\n",
    "walk_num = 100\n",
    "elec_num = 10\n",
    "\n",
    "ctx = pq.context_create()"
   ]
  },
  {
   "cell_type": "markdown",
   "id": "cc20920d",
   "metadata": {},
   "source": [
    "## Read the data\n",
    "\n",
    "We read basic information about the molecule such as:\n",
    "\n",
    "- Basis functions\n",
    "- Electron and nucleii information\n",
    "- Molecular orbital coefficients\n",
    "- Jastrow function related data"
   ]
  },
  {
   "cell_type": "code",
   "execution_count": null,
   "id": "ffc39ced",
   "metadata": {},
   "outputs": [],
   "source": [
    "try:\n",
    "    pq.trexio_read(ctx, 'fake.hdf5')\n",
    "except RuntimeError:\n",
    "    print('Error handling check: passed')\n",
    "    \n",
    "fname = join('data', 'h2o-sto3g.h5')\n",
    "\n",
    "pq.trexio_read(ctx, fname)\n",
    "print('trexio_read: passed')"
   ]
  },
  {
   "cell_type": "markdown",
   "id": "d2e24b19",
   "metadata": {},
   "source": [
    "## Check data \n",
    "\n",
    "Here we check whether the data has been properly initialized \n",
    "via the `trexio` file.\n",
    "\n",
    "We also set the electron coordinates of the walkers. "
   ]
  },
  {
   "cell_type": "code",
   "execution_count": null,
   "id": "d821ea53",
   "metadata": {},
   "outputs": [],
   "source": [
    "mo_num = pq.get_mo_basis_mo_num(ctx)\n",
    "assert mo_num == 7\n",
    "\n",
    "pq.set_electron_coord(ctx, 'T', walk_num, coord)\n",
    "\n",
    "ao_type = pq.get_ao_basis_type(ctx)\n",
    "assert 'G' in ao_type\n",
    "\n",
    "size_max = 5*walk_num*elec_num*mo_num\n",
    "\n",
    "mo_vgl = pq.get_mo_basis_mo_vgl(ctx, size_max)\n",
    "assert mo_vgl.size == size_max"
   ]
  },
  {
   "cell_type": "markdown",
   "id": "b43259f9",
   "metadata": {},
   "source": [
    "## Set determinant information\n",
    "\n",
    "Now we need to supply the information concerning determinants\n",
    "for the calculation of the Local energy."
   ]
  },
  {
   "cell_type": "code",
   "execution_count": null,
   "id": "7effb585",
   "metadata": {},
   "outputs": [],
   "source": [
    "pq.set_determinant_type(ctx, 'G')\n",
    "det_num_alpha = 1\n",
    "det_num_beta  = 1\n",
    "pq.set_determinant_det_num_alpha(ctx, det_num_alpha)\n",
    "pq.set_determinant_det_num_beta (ctx, det_num_beta )\n",
    "pq.set_determinant_det_num_beta (ctx, det_num_beta )\n",
    "elec_up_num = elec_num//2\n",
    "elec_down_num = elec_num//2\n",
    "\n",
    "pq.set_determinant_mo_index_alpha(ctx, mo_index_alpha)\n",
    "pq.set_determinant_mo_index_beta (ctx, mo_index_beta )"
   ]
  },
  {
   "cell_type": "markdown",
   "id": "04131fbb",
   "metadata": {},
   "source": [
    "## Testing \n",
    "\n",
    "We can check the time required to calculate the value, gradient,\n",
    "and Laplacian of the MOs with respect to the coordinates for each walker."
   ]
  },
  {
   "cell_type": "code",
   "execution_count": null,
   "id": "509928a3",
   "metadata": {},
   "outputs": [],
   "source": [
    "start = time.clock_gettime_ns(time.CLOCK_REALTIME)\n",
    "\n",
    "for _ in range(ITERMAX):\n",
    "    mo_vgl_in = pq.get_mo_basis_mo_vgl_inplace(ctx, size_max)\n",
    "\n",
    "end = time.clock_gettime_ns(time.CLOCK_REALTIME)\n",
    "\n",
    "print(f'Time for the calculation of 1 step : {(end-start)*.000001/ITERMAX} ms')"
   ]
  },
  {
   "cell_type": "markdown",
   "id": "914830e9",
   "metadata": {},
   "source": [
    "## Calculation of Local Energy\n",
    "\n",
    "Finally, we can check that all the information required for the\n",
    "calculation of the local energy has been initialized. Following \n",
    "this, we can check that the local energy can also be provided."
   ]
  },
  {
   "cell_type": "code",
   "execution_count": null,
   "id": "e3a55a48",
   "metadata": {},
   "outputs": [],
   "source": [
    "provide_elec = pq.electron_provided(ctx)\n",
    "assert (provide_elec == True)\n",
    "\n",
    "provide_nucl = pq.nucleus_provided(ctx)\n",
    "assert (provide_nucl == True)\n",
    "\n",
    "provide_ao_basis = pq.ao_basis_provided(ctx)\n",
    "assert (provide_ao_basis == True)\n",
    "\n",
    "provide_mo_basis = pq.mo_basis_provided(ctx)\n",
    "assert (provide_mo_basis == True)\n",
    "\n",
    "provide_det = pq.determinant_provided(ctx)\n",
    "assert (provide_det == True)\n",
    "\n",
    "provide_local_energy = pq.local_energy_provided(ctx)\n",
    "assert (provide_local_energy == True)"
   ]
  }
 ],
 "metadata": {
  "kernelspec": {
   "display_name": "Python 3 (ipykernel)",
   "language": "python",
   "name": "python3"
  }
 },
 "nbformat": 4,
 "nbformat_minor": 5
}
